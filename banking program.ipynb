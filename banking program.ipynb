{
  "cells": [
    {
      "cell_type": "code",
      "execution_count": null,
      "metadata": {
        "colab": {
          "background_save": true,
          "base_uri": "https://localhost:8080/"
        },
        "id": "0sIJugxGSoG5",
        "outputId": "5717a84d-416a-4dc7-8a87-10c03afaca07"
      },
      "outputs": [
        {
          "name": "stdout",
          "output_type": "stream",
          "text": [
            "***************\n",
            "Banking Program\n",
            "***************\n",
            "1. Show Balance\n",
            "2. Deposit\n",
            "3. Withdraw\n",
            "4. Exit\n",
            "***************\n"
          ]
        }
      ],
      "source": [
        "#Banking Program | Python Project\n",
        "def show_balance(balance):  # Displays user balance\n",
        "    print(f\"Your balance is ${balance:.2f}\")\n",
        "\n",
        "def deposit():  #User enters an amount to be deposited\n",
        "    try:\n",
        "        amount = float(input(\"Enter an amount to be deposited: \"))\n",
        "        if amount < 0:\n",
        "            print(\"***************\")    #Prints a decorative statement for enhanced user experience, readability\n",
        "            print(\"That is not a valid entry.\")\n",
        "            print(\"***************\")\n",
        "            return 0\n",
        "        else:\n",
        "            return amount\n",
        "    except ValueError:\n",
        "        print(\"***************\")    #Decorative statement\n",
        "        print(\"Please enter a valid number.\")\n",
        "        print(\"***************\")\n",
        "        return 0\n",
        "\n",
        "#User input for withdrawal\n",
        "def withdraw(balance):\n",
        "    print(\"***************\")\n",
        "    try:\n",
        "        amount = float(input(\"Enter amount to be withdrawn: \"))\n",
        "        print(\"***************\")\n",
        "\n",
        "        if amount > balance:    #Program prints 'insufficient funds' error if withdrawal amount is greater than available balance\n",
        "            print(\"***************\")     #Decorative statement\n",
        "            print(\"Insufficient funds\")\n",
        "            print(\"***************\")\n",
        "            return 0\n",
        "        elif amount < 0:\n",
        "            print(\"***************\")     #Decorative statement\n",
        "            print(\"Amount must be greater than 0\")     #Error message. Withdrawal amount must be greater than $0\n",
        "            print(\"***************\")\n",
        "            return 0\n",
        "        else:\n",
        "            return amount\n",
        "    except ValueError:\n",
        "        print(\"***************\")    #Decorative statement\n",
        "        print(\"Invalid input. Please enter a number.\")     #Error statement\n",
        "        print(\"***************\")\n",
        "        return 0\n",
        "\n",
        "#The main function runs the banking loop. This initializes the balance and handles user interractions within the program.\n",
        "def main():\n",
        "    balance = 0\n",
        "    is_running = True\n",
        "\n",
        "#Display the menu options to the user\n",
        "    while is_running:\n",
        "        print(\"***************\")\n",
        "        print(\"Banking Program\")\n",
        "        print(\"***************\")\n",
        "        print(\"1. Show Balance\")  #Display balance\n",
        "        print(\"2. Deposit\")       #Deposit funds\n",
        "        print(\"3. Withdraw\")      #Withdraw funds\n",
        "        print(\"4. Exit\")          #Exit the program\n",
        "#Prompt for menu selection\n",
        "        print(\"***************\")  #Decorative statement\n",
        "        choice = input(\"Please make a selection (1-4): \")\n",
        "        print(\"***************\")\n",
        "\n",
        "#Inputs for user selection\n",
        "        if choice == '1':\n",
        "            show_balance(balance)   #Call balance function to view current function\n",
        "        elif choice == '2':\n",
        "            balance += deposit()    #Call deposit function and add returned amount to balance\n",
        "        elif choice == '3':\n",
        "            balance -= withdraw(balance)     #Call withdraw function and subtract returned amount from balance\n",
        "        elif choice == '4':\n",
        "            is_running = False     #Set loop condition to False to stop the loop\n",
        "        else:\n",
        "            print(\"***************\")\n",
        "            print(\"That is not a valid selection\")   #User did not enter a valid input number (1-4)\n",
        "            print(\"***************\")\n",
        "\n",
        "#Displays exit message\n",
        "    print(\"***************\")\n",
        "    print(\"Thank you! Have a nice day.\")\n",
        "    print(\"***************\")\n",
        "\n",
        "#Checks if the script is being run directly or imported as a module\n",
        "if __name__ == '__main__':\n",
        "#If the condition is true (run directly), call the main function\n",
        "    main()"
      ]
    }
  ],
  "metadata": {
    "colab": {
      "provenance": []
    },
    "kernelspec": {
      "display_name": "Python 3",
      "name": "python3"
    },
    "language_info": {
      "name": "python"
    }
  },
  "nbformat": 4,
  "nbformat_minor": 0
}
